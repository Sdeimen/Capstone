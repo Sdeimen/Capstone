{
 "cells": [
  {
   "cell_type": "code",
   "execution_count": 1,
   "metadata": {},
   "outputs": [],
   "source": [
    "import pandas as pd, requests, numpy as np\n",
    "from bs4 import BeautifulSoup"
   ]
  },
  {
   "cell_type": "code",
   "execution_count": 92,
   "metadata": {},
   "outputs": [],
   "source": [
    "def scrape_state(url, filename, flag=False):\n",
    "    r = requests.get(url)\n",
    "    soup = BeautifulSoup(r.content)\n",
    "    df = []\n",
    "    for tr in soup.find_all(\"tr\"):\n",
    "        inner = []\n",
    "        for td in tr.find_all(\"td\"): \n",
    "            data = td.get_text().strip()  \n",
    "            if data.replace(\".\",\"\").replace(\",\",\"\").isnumeric() == False:\n",
    "                inner.append(data)\n",
    "            elif data.replace(\".\",\"\").replace(\",\",\"\").isnumeric():\n",
    "                data = float(data.replace(\",\",\"\"))\n",
    "                if flag:\n",
    "                    inner.append(100 - data) # if flag, I got white population, but I want all non-white\n",
    "                else:\n",
    "                    inner.append(data)\n",
    "            elif data == \"&ndash;\":\n",
    "                inner.append(0)\n",
    "        if inner != []:\n",
    "            df.append(inner)\n",
    "    # make a df\n",
    "    df_new = pd.DataFrame(df, columns=[\"subregion\",\"numbers\"])\n",
    "    # store the data\n",
    "    df_new.to_csv(filename)\n",
    "    return df_new"
   ]
  },
  {
   "cell_type": "markdown",
   "metadata": {},
   "source": [
    "## North Carolina"
   ]
  },
  {
   "cell_type": "markdown",
   "metadata": {},
   "source": [
    "### Poverty"
   ]
  },
  {
   "cell_type": "code",
   "execution_count": 56,
   "metadata": {},
   "outputs": [],
   "source": [
    "url = \"https://www.indexmundi.com/facts/united-states/quick-facts/north-carolina/percent-of-people-of-all-ages-in-poverty#table\"\n",
    "filename = \"data/north_carolina_poverty.csv\"\n",
    "pov = scrape_state(url, filename)"
   ]
  },
  {
   "cell_type": "markdown",
   "metadata": {},
   "source": [
    "### Non white"
   ]
  },
  {
   "cell_type": "code",
   "execution_count": 93,
   "metadata": {},
   "outputs": [],
   "source": [
    "url = \"https://www.indexmundi.com/facts/united-states/quick-facts/north-carolina/white-population-percentage#table\"\n",
    "filename = \"data/north_carolina_non_white.csv\"\n",
    "flag=True\n",
    "non_white = scrape_state(url, filename,flag)"
   ]
  },
  {
   "cell_type": "markdown",
   "metadata": {},
   "source": [
    "### Pop per square mile"
   ]
  },
  {
   "cell_type": "code",
   "execution_count": 108,
   "metadata": {},
   "outputs": [],
   "source": [
    "url = \"https://www.indexmundi.com/facts/united-states/quick-facts/north-carolina/population#table\"\n",
    "filename = \"data/north_carolina_population.csv\"\n",
    "pop_nc = scrape_state(url, filename)\n"
   ]
  },
  {
   "cell_type": "markdown",
   "metadata": {},
   "source": [
    "## Ohio\n",
    "### Population"
   ]
  },
  {
   "cell_type": "code",
   "execution_count": 107,
   "metadata": {},
   "outputs": [],
   "source": [
    "url = \"https://www.indexmundi.com/facts/united-states/quick-facts/ohio/population#tab\"\n",
    "filename = \"data/ohio_population.csv\"\n",
    "pop_ohio = scrape_state(url, filename)"
   ]
  },
  {
   "cell_type": "markdown",
   "metadata": {},
   "source": [
    "## Indiana\n",
    "### Population"
   ]
  },
  {
   "cell_type": "code",
   "execution_count": 111,
   "metadata": {},
   "outputs": [],
   "source": [
    "url = \"https://www.indexmundi.com/facts/united-states/quick-facts/indiana/population#tab\"\n",
    "filename = \"data/indiana_population.csv\"\n",
    "indiana_pop = scrape_state(url, filename)"
   ]
  },
  {
   "cell_type": "markdown",
   "metadata": {},
   "source": [
    "## Texas\n",
    "### Population"
   ]
  },
  {
   "cell_type": "code",
   "execution_count": 113,
   "metadata": {},
   "outputs": [],
   "source": [
    "url = \"https://www.indexmundi.com/facts/united-states/quick-facts/texas/population#tab\"\n",
    "filename = \"data/texas_population.csv\"\n",
    "texas_pop = scrape_state(url, filename)"
   ]
  }
 ],
 "metadata": {
  "kernelspec": {
   "display_name": "Python 3",
   "language": "python",
   "name": "python3"
  },
  "language_info": {
   "codemirror_mode": {
    "name": "ipython",
    "version": 3
   },
   "file_extension": ".py",
   "mimetype": "text/x-python",
   "name": "python",
   "nbconvert_exporter": "python",
   "pygments_lexer": "ipython3",
   "version": "3.8.5"
  }
 },
 "nbformat": 4,
 "nbformat_minor": 4
}
