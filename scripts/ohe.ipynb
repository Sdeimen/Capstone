{
 "cells": [
  {
   "cell_type": "markdown",
   "metadata": {},
   "source": [
    "#### Cleaning and OHE for multilabel categorical variables  <br>\n",
    "Sebastian Deimen - MS Info Capstone - Univer"
   ]
  },
  {
   "cell_type": "code",
   "execution_count": 1,
   "metadata": {},
   "outputs": [],
   "source": [
    "import pandas as pd, json, pickle as pkl, numpy as np, pickle\n",
    "from sklearn.preprocessing import MultiLabelBinarizer"
   ]
  },
  {
   "cell_type": "code",
   "execution_count": 2,
   "metadata": {},
   "outputs": [],
   "source": [
    "with open(\"data/all_opportunities_df.pkl\", 'rb') as infile:\n",
    "    df = pkl.load(infile)"
   ]
  },
  {
   "cell_type": "markdown",
   "metadata": {},
   "source": [
    "### Varibales PreProcessing/String cleaning/replacing"
   ]
  },
  {
   "cell_type": "code",
   "execution_count": 3,
   "metadata": {},
   "outputs": [
    {
     "data": {
      "text/plain": [
       "['All Ages']"
      ]
     },
     "execution_count": 3,
     "metadata": {},
     "output_type": "execute_result"
    }
   ],
   "source": [
    "# None values in AGES, replacing it with \"all ages\"\n",
    "df.ages[df.ages.isna()]\n",
    "df.ages.iloc[341] = [\"All Ages\"]\n",
    "df.ages.iloc[341]"
   ]
  },
  {
   "cell_type": "code",
   "execution_count": 7,
   "metadata": {},
   "outputs": [],
   "source": [
    "# Prefix Ages and manipulate and unify the ages group and fix an age type (9 to 6)\n",
    "for i,el in enumerate(df.ages,1):\n",
    "    df.loc[i,'ages'] = [\"Ages_Post Secondary\" if (age == \"Post Secondary School\") \n",
    "                        else \"Ages_Elementary (4-6)\" if age == 'Grades 4-9' else \"Ages_\" + age for age in el if age != '']       "
   ]
  },
  {
   "cell_type": "code",
   "execution_count": 5,
   "metadata": {},
   "outputs": [],
   "source": [
    "# Unify REACH\n",
    "df.reach = df.reach.apply(lambda x: 'Missouri' if x == ['Missouri', 'Illinois'] else x)\n",
    "df.reach = df.reach.apply(lambda x: np.nan if x == [] else x)\n",
    "df.reach = df.reach.apply(lambda x: str(x).strip(\"[]''\"))\n",
    "df.reach = df.reach.apply(lambda x: np.nan if x == \"None\" else x)"
   ]
  },
  {
   "cell_type": "code",
   "execution_count": 6,
   "metadata": {},
   "outputs": [],
   "source": [
    "# Replacing/abbreviating strings for ATTENTION\n",
    "df.attention = df.attention.apply(lambda x: ['None'] if x == [] or x == None else x)\n",
    "for i,row in enumerate(df.attention,1):\n",
    "    df.loc[i,'attention'] = [\"Att_\" + \"GTS\" if (el == 'Gifted and talented students' \n",
    "                                                or el == 'Gifted and Talented') else \"Att_\" + \"SwDis\" if (el == 'Students with disabilities' \n",
    "                                                or el == 'Students with disabilites') else \"Att_\" + \"SRDoS\" \n",
    "                                                if el == 'Students at risk from dropping out of school' else \"Att_\" + el for el in row]\n"
   ]
  },
  {
   "cell_type": "code",
   "execution_count": 7,
   "metadata": {},
   "outputs": [],
   "source": [
    "# LANGUAGE unifying \n",
    "df.language = df.language.apply(lambda x: ['None'] if x == [] or x == None else x)\n",
    "for i, row in enumerate(df.language,1):\n",
    "    df.loc[i,\"language\"] = [\"L_\" + el for el in row]"
   ]
  },
  {
   "cell_type": "code",
   "execution_count": 8,
   "metadata": {},
   "outputs": [],
   "source": [
    "# Taking care of ATTENTION - replacing the one None Value with Data found in the data source\n",
    "df.areaOfInterest.loc[342] = ['Coding/Programming', 'Biology','General Science', \n",
    "                              'Invention Education', 'Making/DIY', 'Computer Science', 'Space Science/Aerospace/Rocketry', \n",
    "                              'Technology', 'Entrepreneurship', 'Engineering', 'Earth and Environmental Science', 'Robotics', 'Math']"
   ]
  },
  {
   "cell_type": "code",
   "execution_count": 9,
   "metadata": {},
   "outputs": [],
   "source": [
    "# Replacing/abbreviating strings in ATTENTION\n",
    "for i,row in enumerate(df.areaOfInterest,1):\n",
    "    df.loc[i,'areaOfInterest'] = [\"AoI_EES\" if (el == 'Earth and Environmental Science' or el == 'earth and environmental science' or el == 'earth and Environmental Science') \n",
    "                                  else \"AoI_CS\" if (el == 'Computer Science' or el =='computer science') else \"AoI_\" + 'Coding/Programming' if el == 'coding/programming' \n",
    "                                  else \"AoI_GS\" if el == 'General Science' else \"AoI_AaD\" if el == 'Architecture and Design' \n",
    "                                  else \"AoI_SSAR\" if el == 'Space Science/Aerospace/Rocketry'                                  \n",
    "                                  else \"AoI_\" + el for el in row]\n"
   ]
  },
  {
   "cell_type": "code",
   "execution_count": 10,
   "metadata": {},
   "outputs": [],
   "source": [
    "# TYPEOFOPPORTUNITY stripping the list brackets\n",
    "df.typeOfOpportunity = df.typeOfOpportunity.apply(lambda x: str(x).strip(\"[]'\"))"
   ]
  },
  {
   "cell_type": "markdown",
   "metadata": {},
   "source": [
    "### One Hot Encodings"
   ]
  },
  {
   "cell_type": "code",
   "execution_count": 11,
   "metadata": {},
   "outputs": [],
   "source": [
    "# run the OHE on AGES, ATTENTION, LANGUAGE, AREAOFINTEREST\n",
    "mlb = MultiLabelBinarizer()\n",
    "variables = [df.ages,df.attention, df.language, df.areaOfInterest]\n",
    "for el in variables:\n",
    "     df = df.join(pd.DataFrame(mlb.fit_transform(el),\n",
    "                          columns=mlb.classes_,\n",
    "                          index=df.index))"
   ]
  },
  {
   "cell_type": "markdown",
   "metadata": {},
   "source": [
    "### not running OHE on reach for now - everything is only one level"
   ]
  },
  {
   "cell_type": "code",
   "execution_count": 40,
   "metadata": {},
   "outputs": [],
   "source": [
    "# run the OHE on reach\n",
    "# mlb = MultiLabelBinarizer()\n",
    "# df = df.join(pd.DataFrame(mlb.fit_transform(df.reach),\n",
    "                         # columns=mlb.classes_,\n",
    "                          # index=df.index))"
   ]
  },
  {
   "cell_type": "markdown",
   "metadata": {},
   "source": [
    "### Varibales Checking"
   ]
  },
  {
   "cell_type": "code",
   "execution_count": null,
   "metadata": {},
   "outputs": [],
   "source": [
    "for n,el in enumerate(df.reach,1):\n",
    "    print(n, el)"
   ]
  },
  {
   "cell_type": "code",
   "execution_count": null,
   "metadata": {},
   "outputs": [],
   "source": [
    "df.reach[df.reach.isna()]"
   ]
  },
  {
   "cell_type": "code",
   "execution_count": null,
   "metadata": {},
   "outputs": [],
   "source": [
    "df.attention[df.attention.isna()]\n"
   ]
  },
  {
   "cell_type": "code",
   "execution_count": null,
   "metadata": {
    "scrolled": true
   },
   "outputs": [],
   "source": [
    "for n, el in enumerate(df.attention,1):\n",
    "    print(n, el)"
   ]
  },
  {
   "cell_type": "code",
   "execution_count": null,
   "metadata": {
    "scrolled": true
   },
   "outputs": [],
   "source": [
    "for n, el in enumerate(df.language,1):\n",
    "    print(n, el)"
   ]
  },
  {
   "cell_type": "code",
   "execution_count": null,
   "metadata": {
    "scrolled": true
   },
   "outputs": [],
   "source": [
    "for n, el in enumerate(df.areaOfInterest,1):\n",
    "    print(n, el)"
   ]
  },
  {
   "cell_type": "code",
   "execution_count": null,
   "metadata": {},
   "outputs": [],
   "source": [
    "for n, el in enumerate(df.areaOfInterest,1):\n",
    "    print(n, el)"
   ]
  },
  {
   "cell_type": "markdown",
   "metadata": {},
   "source": [
    "### Store the data"
   ]
  },
  {
   "cell_type": "code",
   "execution_count": 12,
   "metadata": {},
   "outputs": [],
   "source": [
    "with open(\"cleaned_data.pkl\", \"wb\") as outfile:\n",
    "    pickle.dump(df, outfile)\n"
   ]
  },
  {
   "cell_type": "code",
   "execution_count": 13,
   "metadata": {},
   "outputs": [],
   "source": [
    "df.to_csv(\"data/all_opportunities_df_cleaned.csv\")"
   ]
  },
  {
   "cell_type": "code",
   "execution_count": null,
   "metadata": {},
   "outputs": [],
   "source": []
  }
 ],
 "metadata": {
  "kernelspec": {
   "display_name": "Python 3",
   "language": "python",
   "name": "python3"
  },
  "language_info": {
   "codemirror_mode": {
    "name": "ipython",
    "version": 3
   },
   "file_extension": ".py",
   "mimetype": "text/x-python",
   "name": "python",
   "nbconvert_exporter": "python",
   "pygments_lexer": "ipython3",
   "version": "3.8.5"
  }
 },
 "nbformat": 4,
 "nbformat_minor": 4
}
